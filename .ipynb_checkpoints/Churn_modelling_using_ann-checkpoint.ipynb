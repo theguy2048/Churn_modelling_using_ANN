{
 "cells": [
  {
   "cell_type": "markdown",
   "metadata": {},
   "source": [
    "## Importing the libraries"
   ]
  },
  {
   "cell_type": "code",
   "execution_count": 1,
   "metadata": {
    "scrolled": true
   },
   "outputs": [
    {
     "name": "stderr",
     "output_type": "stream",
     "text": [
      "C:\\Users\\vikram\\anaconda3\\lib\\site-packages\\tensorflow\\python\\framework\\dtypes.py:516: FutureWarning: Passing (type, 1) or '1type' as a synonym of type is deprecated; in a future version of numpy, it will be understood as (type, (1,)) / '(1,)type'.\n",
      "  _np_qint8 = np.dtype([(\"qint8\", np.int8, 1)])\n",
      "C:\\Users\\vikram\\anaconda3\\lib\\site-packages\\tensorflow\\python\\framework\\dtypes.py:517: FutureWarning: Passing (type, 1) or '1type' as a synonym of type is deprecated; in a future version of numpy, it will be understood as (type, (1,)) / '(1,)type'.\n",
      "  _np_quint8 = np.dtype([(\"quint8\", np.uint8, 1)])\n",
      "C:\\Users\\vikram\\anaconda3\\lib\\site-packages\\tensorflow\\python\\framework\\dtypes.py:518: FutureWarning: Passing (type, 1) or '1type' as a synonym of type is deprecated; in a future version of numpy, it will be understood as (type, (1,)) / '(1,)type'.\n",
      "  _np_qint16 = np.dtype([(\"qint16\", np.int16, 1)])\n",
      "C:\\Users\\vikram\\anaconda3\\lib\\site-packages\\tensorflow\\python\\framework\\dtypes.py:519: FutureWarning: Passing (type, 1) or '1type' as a synonym of type is deprecated; in a future version of numpy, it will be understood as (type, (1,)) / '(1,)type'.\n",
      "  _np_quint16 = np.dtype([(\"quint16\", np.uint16, 1)])\n",
      "C:\\Users\\vikram\\anaconda3\\lib\\site-packages\\tensorflow\\python\\framework\\dtypes.py:520: FutureWarning: Passing (type, 1) or '1type' as a synonym of type is deprecated; in a future version of numpy, it will be understood as (type, (1,)) / '(1,)type'.\n",
      "  _np_qint32 = np.dtype([(\"qint32\", np.int32, 1)])\n",
      "C:\\Users\\vikram\\anaconda3\\lib\\site-packages\\tensorflow\\python\\framework\\dtypes.py:525: FutureWarning: Passing (type, 1) or '1type' as a synonym of type is deprecated; in a future version of numpy, it will be understood as (type, (1,)) / '(1,)type'.\n",
      "  np_resource = np.dtype([(\"resource\", np.ubyte, 1)])\n",
      "C:\\Users\\vikram\\anaconda3\\lib\\site-packages\\tensorboard\\compat\\tensorflow_stub\\dtypes.py:541: FutureWarning: Passing (type, 1) or '1type' as a synonym of type is deprecated; in a future version of numpy, it will be understood as (type, (1,)) / '(1,)type'.\n",
      "  _np_qint8 = np.dtype([(\"qint8\", np.int8, 1)])\n",
      "C:\\Users\\vikram\\anaconda3\\lib\\site-packages\\tensorboard\\compat\\tensorflow_stub\\dtypes.py:542: FutureWarning: Passing (type, 1) or '1type' as a synonym of type is deprecated; in a future version of numpy, it will be understood as (type, (1,)) / '(1,)type'.\n",
      "  _np_quint8 = np.dtype([(\"quint8\", np.uint8, 1)])\n",
      "C:\\Users\\vikram\\anaconda3\\lib\\site-packages\\tensorboard\\compat\\tensorflow_stub\\dtypes.py:543: FutureWarning: Passing (type, 1) or '1type' as a synonym of type is deprecated; in a future version of numpy, it will be understood as (type, (1,)) / '(1,)type'.\n",
      "  _np_qint16 = np.dtype([(\"qint16\", np.int16, 1)])\n",
      "C:\\Users\\vikram\\anaconda3\\lib\\site-packages\\tensorboard\\compat\\tensorflow_stub\\dtypes.py:544: FutureWarning: Passing (type, 1) or '1type' as a synonym of type is deprecated; in a future version of numpy, it will be understood as (type, (1,)) / '(1,)type'.\n",
      "  _np_quint16 = np.dtype([(\"quint16\", np.uint16, 1)])\n",
      "C:\\Users\\vikram\\anaconda3\\lib\\site-packages\\tensorboard\\compat\\tensorflow_stub\\dtypes.py:545: FutureWarning: Passing (type, 1) or '1type' as a synonym of type is deprecated; in a future version of numpy, it will be understood as (type, (1,)) / '(1,)type'.\n",
      "  _np_qint32 = np.dtype([(\"qint32\", np.int32, 1)])\n",
      "C:\\Users\\vikram\\anaconda3\\lib\\site-packages\\tensorboard\\compat\\tensorflow_stub\\dtypes.py:550: FutureWarning: Passing (type, 1) or '1type' as a synonym of type is deprecated; in a future version of numpy, it will be understood as (type, (1,)) / '(1,)type'.\n",
      "  np_resource = np.dtype([(\"resource\", np.ubyte, 1)])\n"
     ]
    }
   ],
   "source": [
    "import numpy as np\n",
    "import pandas as pd\n",
    "import tensorflow as tf"
   ]
  },
  {
   "cell_type": "markdown",
   "metadata": {},
   "source": [
    "## PART 1 - Data preprocessing"
   ]
  },
  {
   "cell_type": "markdown",
   "metadata": {},
   "source": [
    "### Importing the dataset"
   ]
  },
  {
   "cell_type": "code",
   "execution_count": 2,
   "metadata": {},
   "outputs": [],
   "source": [
    "dataset = pd.read_csv('Churn_Modelling.csv')\n",
    "X = dataset.iloc[:, 3:-1].values\n",
    "y = dataset.iloc[:, -1].values"
   ]
  },
  {
   "cell_type": "code",
   "execution_count": 3,
   "metadata": {},
   "outputs": [
    {
     "name": "stdout",
     "output_type": "stream",
     "text": [
      "[[619 'France' 'Female' ... 1 1 101348.88]\n",
      " [608 'Spain' 'Female' ... 0 1 112542.58]\n",
      " [502 'France' 'Female' ... 1 0 113931.57]\n",
      " ...\n",
      " [709 'France' 'Female' ... 0 1 42085.58]\n",
      " [772 'Germany' 'Male' ... 1 0 92888.52]\n",
      " [792 'France' 'Female' ... 1 0 38190.78]]\n"
     ]
    }
   ],
   "source": [
    "print(X)"
   ]
  },
  {
   "cell_type": "code",
   "execution_count": 4,
   "metadata": {},
   "outputs": [
    {
     "name": "stdout",
     "output_type": "stream",
     "text": [
      "[1 0 1 ... 1 1 0]\n"
     ]
    }
   ],
   "source": [
    "print(y)"
   ]
  },
  {
   "cell_type": "markdown",
   "metadata": {},
   "source": [
    "## Encoding categorical data\n",
    "\n",
    "### Label Encoding the \"Gender\" column"
   ]
  },
  {
   "cell_type": "code",
   "execution_count": 5,
   "metadata": {},
   "outputs": [],
   "source": [
    "from sklearn.preprocessing import LabelEncoder\n",
    "le = LabelEncoder()\n",
    "X[:, 2] = le.fit_transform(X[:, 2])"
   ]
  },
  {
   "cell_type": "code",
   "execution_count": 6,
   "metadata": {},
   "outputs": [
    {
     "name": "stdout",
     "output_type": "stream",
     "text": [
      "[[619 'France' 0 ... 1 1 101348.88]\n",
      " [608 'Spain' 0 ... 0 1 112542.58]\n",
      " [502 'France' 0 ... 1 0 113931.57]\n",
      " ...\n",
      " [709 'France' 0 ... 0 1 42085.58]\n",
      " [772 'Germany' 1 ... 1 0 92888.52]\n",
      " [792 'France' 0 ... 1 0 38190.78]]\n"
     ]
    }
   ],
   "source": [
    "print(X)"
   ]
  },
  {
   "cell_type": "markdown",
   "metadata": {},
   "source": [
    "### One Hot Encoding the \"Geography\" column"
   ]
  },
  {
   "cell_type": "code",
   "execution_count": 7,
   "metadata": {},
   "outputs": [],
   "source": [
    "from sklearn.compose import ColumnTransformer\n",
    "from sklearn.preprocessing import OneHotEncoder\n",
    "ct = ColumnTransformer(transformers=[('encoder', OneHotEncoder(), [1])], remainder='passthrough')\n",
    "X = np.array(ct.fit_transform(X))"
   ]
  },
  {
   "cell_type": "code",
   "execution_count": 8,
   "metadata": {},
   "outputs": [
    {
     "name": "stdout",
     "output_type": "stream",
     "text": [
      "[[1.0 0.0 0.0 ... 1 1 101348.88]\n",
      " [0.0 0.0 1.0 ... 0 1 112542.58]\n",
      " [1.0 0.0 0.0 ... 1 0 113931.57]\n",
      " ...\n",
      " [1.0 0.0 0.0 ... 0 1 42085.58]\n",
      " [0.0 1.0 0.0 ... 1 0 92888.52]\n",
      " [1.0 0.0 0.0 ... 1 0 38190.78]]\n"
     ]
    }
   ],
   "source": [
    "print(X)"
   ]
  },
  {
   "cell_type": "markdown",
   "metadata": {},
   "source": [
    "### Splitting the dataset into the Training set and Test set"
   ]
  },
  {
   "cell_type": "code",
   "execution_count": 9,
   "metadata": {},
   "outputs": [],
   "source": [
    "from sklearn.model_selection import train_test_split\n",
    "X_train, X_test, y_train, y_test = train_test_split(X, y, test_size = 0.2, random_state = 0)"
   ]
  },
  {
   "cell_type": "markdown",
   "metadata": {},
   "source": [
    "### Feature Scaling"
   ]
  },
  {
   "cell_type": "code",
   "execution_count": 10,
   "metadata": {},
   "outputs": [],
   "source": [
    "from sklearn.preprocessing import StandardScaler\n",
    "sc = StandardScaler()\n",
    "X_train = sc.fit_transform(X_train)\n",
    "X_test = sc.transform(X_test)"
   ]
  },
  {
   "cell_type": "markdown",
   "metadata": {},
   "source": [
    "## Part 2 - Building the ANN\n",
    "\n",
    "### Initializing the ANN"
   ]
  },
  {
   "cell_type": "code",
   "execution_count": 11,
   "metadata": {},
   "outputs": [],
   "source": [
    "ann = tf.keras.models.Sequential()"
   ]
  },
  {
   "cell_type": "markdown",
   "metadata": {},
   "source": [
    "### Adding the input layer and the first hidden layer"
   ]
  },
  {
   "cell_type": "code",
   "execution_count": 12,
   "metadata": {},
   "outputs": [
    {
     "name": "stdout",
     "output_type": "stream",
     "text": [
      "WARNING:tensorflow:From C:\\Users\\vikram\\anaconda3\\lib\\site-packages\\tensorflow\\python\\ops\\init_ops.py:1251: calling VarianceScaling.__init__ (from tensorflow.python.ops.init_ops) with dtype is deprecated and will be removed in a future version.\n",
      "Instructions for updating:\n",
      "Call initializer instance with the dtype argument instead of passing it to the constructor\n"
     ]
    }
   ],
   "source": [
    "ann.add(tf.keras.layers.Dense(units=6, activation='relu'))"
   ]
  },
  {
   "cell_type": "markdown",
   "metadata": {},
   "source": [
    "### Adding the second hidden layer"
   ]
  },
  {
   "cell_type": "code",
   "execution_count": 13,
   "metadata": {},
   "outputs": [],
   "source": [
    "ann.add(tf.keras.layers.Dense(units=6, activation='relu'))"
   ]
  },
  {
   "cell_type": "markdown",
   "metadata": {},
   "source": [
    "### Adding the output layer"
   ]
  },
  {
   "cell_type": "code",
   "execution_count": 14,
   "metadata": {},
   "outputs": [],
   "source": [
    "ann.add(tf.keras.layers.Dense(units=1, activation='sigmoid'))"
   ]
  },
  {
   "cell_type": "markdown",
   "metadata": {},
   "source": [
    "## Part 3 - Training the ANN\n",
    "\n",
    "### Compiling the ANN"
   ]
  },
  {
   "cell_type": "code",
   "execution_count": 15,
   "metadata": {},
   "outputs": [],
   "source": [
    "ann.compile(optimizer = 'adam', loss = 'binary_crossentropy', metrics = ['accuracy'])"
   ]
  },
  {
   "cell_type": "markdown",
   "metadata": {},
   "source": [
    "### Training the ANN on the Training set"
   ]
  },
  {
   "cell_type": "code",
   "execution_count": 16,
   "metadata": {},
   "outputs": [
    {
     "name": "stdout",
     "output_type": "stream",
     "text": [
      "WARNING:tensorflow:From C:\\Users\\vikram\\anaconda3\\lib\\site-packages\\tensorflow\\python\\ops\\nn_impl.py:180: add_dispatch_support.<locals>.wrapper (from tensorflow.python.ops.array_ops) is deprecated and will be removed in a future version.\n",
      "Instructions for updating:\n",
      "Use tf.where in 2.0, which has the same broadcast rule as np.where\n",
      "Epoch 1/100\n",
      "8000/8000 [==============================] - 1s 91us/sample - loss: 0.5159 - acc: 0.7960\n",
      "Epoch 2/100\n",
      "8000/8000 [==============================] - 1s 66us/sample - loss: 0.4660 - acc: 0.7960\n",
      "Epoch 3/100\n",
      "8000/8000 [==============================] - 1s 66us/sample - loss: 0.4480 - acc: 0.7960\n",
      "Epoch 4/100\n",
      "8000/8000 [==============================] - 1s 79us/sample - loss: 0.4393 - acc: 0.7960\n",
      "Epoch 5/100\n",
      "8000/8000 [==============================] - 0s 60us/sample - loss: 0.4331 - acc: 0.7960\n",
      "Epoch 6/100\n",
      "8000/8000 [==============================] - 0s 62us/sample - loss: 0.4284 - acc: 0.7960\n",
      "Epoch 7/100\n",
      "8000/8000 [==============================] - 0s 58us/sample - loss: 0.4237 - acc: 0.8009\n",
      "Epoch 8/100\n",
      "8000/8000 [==============================] - 1s 73us/sample - loss: 0.4187 - acc: 0.8080\n",
      "Epoch 9/100\n",
      "8000/8000 [==============================] - 0s 48us/sample - loss: 0.4132 - acc: 0.8152\n",
      "Epoch 10/100\n",
      "8000/8000 [==============================] - 0s 43us/sample - loss: 0.4063 - acc: 0.8199\n",
      "Epoch 11/100\n",
      "8000/8000 [==============================] - 0s 51us/sample - loss: 0.3973 - acc: 0.8275\n",
      "Epoch 12/100\n",
      "8000/8000 [==============================] - 0s 42us/sample - loss: 0.3879 - acc: 0.8380\n",
      "Epoch 13/100\n",
      "8000/8000 [==============================] - 0s 44us/sample - loss: 0.3802 - acc: 0.8440\n",
      "Epoch 14/100\n",
      "8000/8000 [==============================] - 0s 44us/sample - loss: 0.3747 - acc: 0.8475\n",
      "Epoch 15/100\n",
      "8000/8000 [==============================] - 0s 39us/sample - loss: 0.3703 - acc: 0.8505\n",
      "Epoch 16/100\n",
      "8000/8000 [==============================] - 0s 39us/sample - loss: 0.3667 - acc: 0.8529\n",
      "Epoch 17/100\n",
      "8000/8000 [==============================] - 0s 45us/sample - loss: 0.3636 - acc: 0.8534\n",
      "Epoch 18/100\n",
      "8000/8000 [==============================] - 0s 39us/sample - loss: 0.3612 - acc: 0.8560\n",
      "Epoch 19/100\n",
      "8000/8000 [==============================] - 0s 39us/sample - loss: 0.3594 - acc: 0.8561\n",
      "Epoch 20/100\n",
      "8000/8000 [==============================] - 0s 47us/sample - loss: 0.3575 - acc: 0.8556\n",
      "Epoch 21/100\n",
      "8000/8000 [==============================] - 0s 41us/sample - loss: 0.3562 - acc: 0.8560\n",
      "Epoch 22/100\n",
      "8000/8000 [==============================] - 0s 41us/sample - loss: 0.3549 - acc: 0.8574\n",
      "Epoch 23/100\n",
      "8000/8000 [==============================] - 0s 48us/sample - loss: 0.3543 - acc: 0.8572\n",
      "Epoch 24/100\n",
      "8000/8000 [==============================] - ETA: 0s - loss: 0.3519 - acc: 0.859 - 0s 43us/sample - loss: 0.3528 - acc: 0.8581\n",
      "Epoch 25/100\n",
      "8000/8000 [==============================] - 0s 42us/sample - loss: 0.3522 - acc: 0.85830s - loss: 0.3519 - acc: 0\n",
      "Epoch 26/100\n",
      "8000/8000 [==============================] - 0s 47us/sample - loss: 0.3511 - acc: 0.8610\n",
      "Epoch 27/100\n",
      "8000/8000 [==============================] - 0s 42us/sample - loss: 0.3507 - acc: 0.8600\n",
      "Epoch 28/100\n",
      "8000/8000 [==============================] - 0s 40us/sample - loss: 0.3499 - acc: 0.8600\n",
      "Epoch 29/100\n",
      "8000/8000 [==============================] - 0s 46us/sample - loss: 0.3493 - acc: 0.8577\n",
      "Epoch 30/100\n",
      "8000/8000 [==============================] - 0s 42us/sample - loss: 0.3487 - acc: 0.8601\n",
      "Epoch 31/100\n",
      "8000/8000 [==============================] - 0s 42us/sample - loss: 0.3480 - acc: 0.8609\n",
      "Epoch 32/100\n",
      "8000/8000 [==============================] - 0s 46us/sample - loss: 0.3480 - acc: 0.8596\n",
      "Epoch 33/100\n",
      "8000/8000 [==============================] - 0s 39us/sample - loss: 0.3473 - acc: 0.86050s - loss: 0.3398 - acc: 0.8\n",
      "Epoch 34/100\n",
      "8000/8000 [==============================] - 0s 45us/sample - loss: 0.3470 - acc: 0.8604\n",
      "Epoch 35/100\n",
      "8000/8000 [==============================] - 0s 50us/sample - loss: 0.3464 - acc: 0.86160s - loss: 0.3734 - acc:\n",
      "Epoch 36/100\n",
      "8000/8000 [==============================] - 0s 41us/sample - loss: 0.3459 - acc: 0.8604\n",
      "Epoch 37/100\n",
      "8000/8000 [==============================] - 0s 43us/sample - loss: 0.3456 - acc: 0.8610\n",
      "Epoch 38/100\n",
      "8000/8000 [==============================] - 0s 52us/sample - loss: 0.3452 - acc: 0.8601\n",
      "Epoch 39/100\n",
      "8000/8000 [==============================] - 0s 49us/sample - loss: 0.3451 - acc: 0.8602\n",
      "Epoch 40/100\n",
      "8000/8000 [==============================] - 0s 44us/sample - loss: 0.3448 - acc: 0.8610\n",
      "Epoch 41/100\n",
      "8000/8000 [==============================] - 0s 60us/sample - loss: 0.3445 - acc: 0.8611\n",
      "Epoch 42/100\n",
      "8000/8000 [==============================] - 0s 55us/sample - loss: 0.3442 - acc: 0.8609\n",
      "Epoch 43/100\n",
      "8000/8000 [==============================] - 0s 52us/sample - loss: 0.3438 - acc: 0.8622\n",
      "Epoch 44/100\n",
      "8000/8000 [==============================] - 0s 46us/sample - loss: 0.3434 - acc: 0.8615\n",
      "Epoch 45/100\n",
      "8000/8000 [==============================] - 0s 60us/sample - loss: 0.3435 - acc: 0.8614\n",
      "Epoch 46/100\n",
      "8000/8000 [==============================] - 0s 58us/sample - loss: 0.3433 - acc: 0.8627\n",
      "Epoch 47/100\n",
      "8000/8000 [==============================] - 0s 57us/sample - loss: 0.3429 - acc: 0.8602\n",
      "Epoch 48/100\n",
      "8000/8000 [==============================] - 0s 59us/sample - loss: 0.3425 - acc: 0.8611\n",
      "Epoch 49/100\n",
      "8000/8000 [==============================] - 0s 46us/sample - loss: 0.3428 - acc: 0.8619\n",
      "Epoch 50/100\n",
      "8000/8000 [==============================] - 0s 43us/sample - loss: 0.3426 - acc: 0.8614\n",
      "Epoch 51/100\n",
      "8000/8000 [==============================] - 0s 49us/sample - loss: 0.3422 - acc: 0.86120s - loss: 0.3535 - acc:\n",
      "Epoch 52/100\n",
      "8000/8000 [==============================] - 0s 62us/sample - loss: 0.3424 - acc: 0.8615\n",
      "Epoch 53/100\n",
      "8000/8000 [==============================] - 1s 74us/sample - loss: 0.3421 - acc: 0.8619\n",
      "Epoch 54/100\n",
      "8000/8000 [==============================] - 0s 55us/sample - loss: 0.3418 - acc: 0.8618\n",
      "Epoch 55/100\n",
      "8000/8000 [==============================] - 0s 62us/sample - loss: 0.3419 - acc: 0.8611\n",
      "Epoch 56/100\n",
      "8000/8000 [==============================] - 0s 55us/sample - loss: 0.3417 - acc: 0.8619\n",
      "Epoch 57/100\n",
      "8000/8000 [==============================] - 0s 52us/sample - loss: 0.3412 - acc: 0.8611\n",
      "Epoch 58/100\n",
      "8000/8000 [==============================] - 0s 59us/sample - loss: 0.3410 - acc: 0.8620\n",
      "Epoch 59/100\n",
      "8000/8000 [==============================] - 0s 54us/sample - loss: 0.3412 - acc: 0.8608\n",
      "Epoch 60/100\n",
      "8000/8000 [==============================] - 0s 58us/sample - loss: 0.3407 - acc: 0.8616\n",
      "Epoch 61/100\n",
      "8000/8000 [==============================] - 0s 55us/sample - loss: 0.3407 - acc: 0.8612\n",
      "Epoch 62/100\n",
      "8000/8000 [==============================] - 1s 67us/sample - loss: 0.3402 - acc: 0.8633\n",
      "Epoch 63/100\n",
      "8000/8000 [==============================] - 1s 71us/sample - loss: 0.3403 - acc: 0.8606\n",
      "Epoch 64/100\n",
      "8000/8000 [==============================] - 1s 74us/sample - loss: 0.3398 - acc: 0.8608\n",
      "Epoch 65/100\n",
      "8000/8000 [==============================] - 1s 63us/sample - loss: 0.3397 - acc: 0.8625\n",
      "Epoch 66/100\n",
      "8000/8000 [==============================] - 1s 67us/sample - loss: 0.3394 - acc: 0.8615\n",
      "Epoch 67/100\n",
      "8000/8000 [==============================] - 1s 63us/sample - loss: 0.3394 - acc: 0.8624\n",
      "Epoch 68/100\n",
      "8000/8000 [==============================] - 0s 48us/sample - loss: 0.3394 - acc: 0.8622\n",
      "Epoch 69/100\n",
      "8000/8000 [==============================] - 1s 64us/sample - loss: 0.3398 - acc: 0.8622\n",
      "Epoch 70/100\n",
      "8000/8000 [==============================] - 0s 54us/sample - loss: 0.3389 - acc: 0.8622\n",
      "Epoch 71/100\n",
      "8000/8000 [==============================] - 0s 48us/sample - loss: 0.3392 - acc: 0.8621\n",
      "Epoch 72/100\n",
      "8000/8000 [==============================] - 0s 39us/sample - loss: 0.3391 - acc: 0.8619\n",
      "Epoch 73/100\n",
      "8000/8000 [==============================] - 0s 42us/sample - loss: 0.3393 - acc: 0.8627\n",
      "Epoch 74/100\n",
      "8000/8000 [==============================] - 1s 74us/sample - loss: 0.3389 - acc: 0.8637\n",
      "Epoch 75/100\n",
      "8000/8000 [==============================] - 1s 75us/sample - loss: 0.3389 - acc: 0.8619\n",
      "Epoch 76/100\n"
     ]
    },
    {
     "name": "stdout",
     "output_type": "stream",
     "text": [
      "8000/8000 [==============================] - 1s 78us/sample - loss: 0.3390 - acc: 0.8615\n",
      "Epoch 77/100\n",
      "8000/8000 [==============================] - 1s 71us/sample - loss: 0.3385 - acc: 0.8619\n",
      "Epoch 78/100\n",
      "8000/8000 [==============================] - 1s 86us/sample - loss: 0.3384 - acc: 0.8630\n",
      "Epoch 79/100\n",
      "8000/8000 [==============================] - 1s 85us/sample - loss: 0.3385 - acc: 0.8621\n",
      "Epoch 80/100\n",
      "8000/8000 [==============================] - 1s 80us/sample - loss: 0.3378 - acc: 0.8637\n",
      "Epoch 81/100\n",
      "8000/8000 [==============================] - 1s 87us/sample - loss: 0.3383 - acc: 0.8626\n",
      "Epoch 82/100\n",
      "8000/8000 [==============================] - 1s 106us/sample - loss: 0.3381 - acc: 0.8626\n",
      "Epoch 83/100\n",
      "8000/8000 [==============================] - 1s 90us/sample - loss: 0.3381 - acc: 0.8633\n",
      "Epoch 84/100\n",
      "8000/8000 [==============================] - 1s 87us/sample - loss: 0.3382 - acc: 0.8622\n",
      "Epoch 85/100\n",
      "8000/8000 [==============================] - 1s 76us/sample - loss: 0.3382 - acc: 0.8629\n",
      "Epoch 86/100\n",
      "8000/8000 [==============================] - 1s 96us/sample - loss: 0.3381 - acc: 0.86300s - loss: 0.3453 - a\n",
      "Epoch 87/100\n",
      "8000/8000 [==============================] - 1s 93us/sample - loss: 0.3373 - acc: 0.8630\n",
      "Epoch 88/100\n",
      "8000/8000 [==============================] - 1s 82us/sample - loss: 0.3383 - acc: 0.8610\n",
      "Epoch 89/100\n",
      "8000/8000 [==============================] - 1s 87us/sample - loss: 0.3374 - acc: 0.8640\n",
      "Epoch 90/100\n",
      "8000/8000 [==============================] - 1s 100us/sample - loss: 0.3377 - acc: 0.8631\n",
      "Epoch 91/100\n",
      "8000/8000 [==============================] - 1s 82us/sample - loss: 0.3372 - acc: 0.8626\n",
      "Epoch 92/100\n",
      "8000/8000 [==============================] - 1s 81us/sample - loss: 0.3373 - acc: 0.8627\n",
      "Epoch 93/100\n",
      "8000/8000 [==============================] - 1s 77us/sample - loss: 0.3373 - acc: 0.8629\n",
      "Epoch 94/100\n",
      "8000/8000 [==============================] - 1s 75us/sample - loss: 0.3372 - acc: 0.8611\n",
      "Epoch 95/100\n",
      "8000/8000 [==============================] - 1s 74us/sample - loss: 0.3369 - acc: 0.8626\n",
      "Epoch 96/100\n",
      "8000/8000 [==============================] - 1s 88us/sample - loss: 0.3365 - acc: 0.8644\n",
      "Epoch 97/100\n",
      "8000/8000 [==============================] - 1s 92us/sample - loss: 0.3375 - acc: 0.8627\n",
      "Epoch 98/100\n",
      "8000/8000 [==============================] - 1s 90us/sample - loss: 0.3369 - acc: 0.8627\n",
      "Epoch 99/100\n",
      "8000/8000 [==============================] - 1s 89us/sample - loss: 0.3371 - acc: 0.8644\n",
      "Epoch 100/100\n",
      "8000/8000 [==============================] - 1s 95us/sample - loss: 0.3367 - acc: 0.8636\n"
     ]
    },
    {
     "data": {
      "text/plain": [
       "<tensorflow.python.keras.callbacks.History at 0x1adaa840f48>"
      ]
     },
     "execution_count": 16,
     "metadata": {},
     "output_type": "execute_result"
    }
   ],
   "source": [
    "ann.fit(X_train, y_train, batch_size = 25, epochs = 100)"
   ]
  },
  {
   "cell_type": "markdown",
   "metadata": {},
   "source": [
    "## Part 4 - Making the predictions and evaluating the model"
   ]
  },
  {
   "cell_type": "markdown",
   "metadata": {},
   "source": [
    "### Predicting the result of a single observation"
   ]
  },
  {
   "cell_type": "markdown",
   "metadata": {},
   "source": [
    "Using our ANN model to predict if the customer with the following informations will leave the bank: \n",
    "\n",
    "Geography: France\n",
    "\n",
    "Credit Score: 600\n",
    "\n",
    "Gender: Male\n",
    "\n",
    "Age: 40 years old\n",
    "\n",
    "Tenure: 3 years\n",
    "\n",
    "Balance: \\$ 60000\n",
    "\n",
    "Number of Products: 2\n",
    "\n",
    "Does this customer have a credit card ? Yes\n",
    "\n",
    "Is this customer an Active Member: Yes\n",
    "\n",
    "Estimated Salary: \\$ 50000\n",
    "\n",
    "So, should we say goodbye to that customer ?"
   ]
  },
  {
   "cell_type": "markdown",
   "metadata": {},
   "source": [
    "**Solution**"
   ]
  },
  {
   "cell_type": "code",
   "execution_count": 17,
   "metadata": {},
   "outputs": [
    {
     "name": "stdout",
     "output_type": "stream",
     "text": [
      "[[False]]\n"
     ]
    }
   ],
   "source": [
    "print(ann.predict(sc.transform([[1, 0, 0, 600, 1, 40, 3, 60000, 2, 1, 1, 50000]])) > 0.5)"
   ]
  },
  {
   "cell_type": "markdown",
   "metadata": {},
   "source": [
    "Therefore, our ANN model predicts that this customer stays in the bank!\n",
    "\n",
    "**Important note 1:** Notice that the values of the features were all input in a double pair of square brackets. That's because the \"predict\" method always expects a 2D array as the format of its inputs. And putting our values into a double pair of square brackets makes the input exactly a 2D array.\n",
    "\n",
    "**Important note 2:** Notice also that the \"France\" country was not input as a string in the last column but as \"1, 0, 0\" in the first three columns. That's because of course the predict method expects the one-hot-encoded values of the state, and as we see in the first row of the matrix of features X, \"France\" was encoded as \"1, 0, 0\". And be careful to include these values in the first three columns, because the dummy variables are always created in the first columns."
   ]
  },
  {
   "cell_type": "markdown",
   "metadata": {},
   "source": [
    "### Predicting the Test set results"
   ]
  },
  {
   "cell_type": "code",
   "execution_count": 18,
   "metadata": {},
   "outputs": [
    {
     "name": "stdout",
     "output_type": "stream",
     "text": [
      "[[0 0]\n",
      " [0 1]\n",
      " [0 0]\n",
      " ...\n",
      " [0 0]\n",
      " [0 0]\n",
      " [0 0]]\n"
     ]
    }
   ],
   "source": [
    "y_pred = ann.predict(X_test)\n",
    "y_pred = (y_pred > 0.5)\n",
    "print(np.concatenate((y_pred.reshape(len(y_pred),1), y_test.reshape(len(y_test),1)),1))"
   ]
  },
  {
   "cell_type": "markdown",
   "metadata": {},
   "source": [
    "### Making the Confusion Matrix\n",
    "\n",
    "It gives us the accuracy percentage!"
   ]
  },
  {
   "cell_type": "code",
   "execution_count": 19,
   "metadata": {},
   "outputs": [
    {
     "name": "stdout",
     "output_type": "stream",
     "text": [
      "[[1523   72]\n",
      " [ 203  202]]\n"
     ]
    },
    {
     "data": {
      "text/plain": [
       "0.8625"
      ]
     },
     "execution_count": 19,
     "metadata": {},
     "output_type": "execute_result"
    }
   ],
   "source": [
    "from sklearn.metrics import confusion_matrix, accuracy_score\n",
    "cm = confusion_matrix(y_test, y_pred)\n",
    "print(cm)\n",
    "accuracy_score(y_test, y_pred)"
   ]
  },
  {
   "cell_type": "code",
   "execution_count": null,
   "metadata": {},
   "outputs": [],
   "source": []
  }
 ],
 "metadata": {
  "kernelspec": {
   "display_name": "Python 3",
   "language": "python",
   "name": "python3"
  },
  "language_info": {
   "codemirror_mode": {
    "name": "ipython",
    "version": 3
   },
   "file_extension": ".py",
   "mimetype": "text/x-python",
   "name": "python",
   "nbconvert_exporter": "python",
   "pygments_lexer": "ipython3",
   "version": "3.7.7"
  }
 },
 "nbformat": 4,
 "nbformat_minor": 4
}
