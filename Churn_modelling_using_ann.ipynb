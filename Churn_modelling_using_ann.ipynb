{
 "cells": [
  {
   "cell_type": "markdown",
   "metadata": {},
   "source": [
    "## Importing the libraries"
   ]
  },
  {
   "cell_type": "code",
   "execution_count": 1,
   "metadata": {
    "scrolled": true
   },
   "outputs": [
    {
     "name": "stderr",
     "output_type": "stream",
     "text": [
      "C:\\Users\\vikram\\anaconda3\\lib\\site-packages\\tensorflow\\python\\framework\\dtypes.py:516: FutureWarning: Passing (type, 1) or '1type' as a synonym of type is deprecated; in a future version of numpy, it will be understood as (type, (1,)) / '(1,)type'.\n",
      "  _np_qint8 = np.dtype([(\"qint8\", np.int8, 1)])\n",
      "C:\\Users\\vikram\\anaconda3\\lib\\site-packages\\tensorflow\\python\\framework\\dtypes.py:517: FutureWarning: Passing (type, 1) or '1type' as a synonym of type is deprecated; in a future version of numpy, it will be understood as (type, (1,)) / '(1,)type'.\n",
      "  _np_quint8 = np.dtype([(\"quint8\", np.uint8, 1)])\n",
      "C:\\Users\\vikram\\anaconda3\\lib\\site-packages\\tensorflow\\python\\framework\\dtypes.py:518: FutureWarning: Passing (type, 1) or '1type' as a synonym of type is deprecated; in a future version of numpy, it will be understood as (type, (1,)) / '(1,)type'.\n",
      "  _np_qint16 = np.dtype([(\"qint16\", np.int16, 1)])\n",
      "C:\\Users\\vikram\\anaconda3\\lib\\site-packages\\tensorflow\\python\\framework\\dtypes.py:519: FutureWarning: Passing (type, 1) or '1type' as a synonym of type is deprecated; in a future version of numpy, it will be understood as (type, (1,)) / '(1,)type'.\n",
      "  _np_quint16 = np.dtype([(\"quint16\", np.uint16, 1)])\n",
      "C:\\Users\\vikram\\anaconda3\\lib\\site-packages\\tensorflow\\python\\framework\\dtypes.py:520: FutureWarning: Passing (type, 1) or '1type' as a synonym of type is deprecated; in a future version of numpy, it will be understood as (type, (1,)) / '(1,)type'.\n",
      "  _np_qint32 = np.dtype([(\"qint32\", np.int32, 1)])\n",
      "C:\\Users\\vikram\\anaconda3\\lib\\site-packages\\tensorflow\\python\\framework\\dtypes.py:525: FutureWarning: Passing (type, 1) or '1type' as a synonym of type is deprecated; in a future version of numpy, it will be understood as (type, (1,)) / '(1,)type'.\n",
      "  np_resource = np.dtype([(\"resource\", np.ubyte, 1)])\n",
      "C:\\Users\\vikram\\anaconda3\\lib\\site-packages\\tensorboard\\compat\\tensorflow_stub\\dtypes.py:541: FutureWarning: Passing (type, 1) or '1type' as a synonym of type is deprecated; in a future version of numpy, it will be understood as (type, (1,)) / '(1,)type'.\n",
      "  _np_qint8 = np.dtype([(\"qint8\", np.int8, 1)])\n",
      "C:\\Users\\vikram\\anaconda3\\lib\\site-packages\\tensorboard\\compat\\tensorflow_stub\\dtypes.py:542: FutureWarning: Passing (type, 1) or '1type' as a synonym of type is deprecated; in a future version of numpy, it will be understood as (type, (1,)) / '(1,)type'.\n",
      "  _np_quint8 = np.dtype([(\"quint8\", np.uint8, 1)])\n",
      "C:\\Users\\vikram\\anaconda3\\lib\\site-packages\\tensorboard\\compat\\tensorflow_stub\\dtypes.py:543: FutureWarning: Passing (type, 1) or '1type' as a synonym of type is deprecated; in a future version of numpy, it will be understood as (type, (1,)) / '(1,)type'.\n",
      "  _np_qint16 = np.dtype([(\"qint16\", np.int16, 1)])\n",
      "C:\\Users\\vikram\\anaconda3\\lib\\site-packages\\tensorboard\\compat\\tensorflow_stub\\dtypes.py:544: FutureWarning: Passing (type, 1) or '1type' as a synonym of type is deprecated; in a future version of numpy, it will be understood as (type, (1,)) / '(1,)type'.\n",
      "  _np_quint16 = np.dtype([(\"quint16\", np.uint16, 1)])\n",
      "C:\\Users\\vikram\\anaconda3\\lib\\site-packages\\tensorboard\\compat\\tensorflow_stub\\dtypes.py:545: FutureWarning: Passing (type, 1) or '1type' as a synonym of type is deprecated; in a future version of numpy, it will be understood as (type, (1,)) / '(1,)type'.\n",
      "  _np_qint32 = np.dtype([(\"qint32\", np.int32, 1)])\n",
      "C:\\Users\\vikram\\anaconda3\\lib\\site-packages\\tensorboard\\compat\\tensorflow_stub\\dtypes.py:550: FutureWarning: Passing (type, 1) or '1type' as a synonym of type is deprecated; in a future version of numpy, it will be understood as (type, (1,)) / '(1,)type'.\n",
      "  np_resource = np.dtype([(\"resource\", np.ubyte, 1)])\n"
     ]
    }
   ],
   "source": [
    "import numpy as np\n",
    "import pandas as pd\n",
    "import tensorflow as tf"
   ]
  },
  {
   "cell_type": "markdown",
   "metadata": {},
   "source": [
    "## PART 1 - Data preprocessing"
   ]
  },
  {
   "cell_type": "markdown",
   "metadata": {},
   "source": [
    "### Importing the dataset"
   ]
  },
  {
   "cell_type": "code",
   "execution_count": 2,
   "metadata": {},
   "outputs": [],
   "source": [
    "dataset = pd.read_csv('Churn_Modelling.csv')\n",
    "X = dataset.iloc[:, 3:-1].values\n",
    "y = dataset.iloc[:, -1].values"
   ]
  },
  {
   "cell_type": "code",
   "execution_count": 3,
   "metadata": {},
   "outputs": [
    {
     "name": "stdout",
     "output_type": "stream",
     "text": [
      "[[619 'France' 'Female' ... 1 1 101348.88]\n",
      " [608 'Spain' 'Female' ... 0 1 112542.58]\n",
      " [502 'France' 'Female' ... 1 0 113931.57]\n",
      " ...\n",
      " [709 'France' 'Female' ... 0 1 42085.58]\n",
      " [772 'Germany' 'Male' ... 1 0 92888.52]\n",
      " [792 'France' 'Female' ... 1 0 38190.78]]\n"
     ]
    }
   ],
   "source": [
    "print(X)"
   ]
  },
  {
   "cell_type": "code",
   "execution_count": 4,
   "metadata": {},
   "outputs": [
    {
     "name": "stdout",
     "output_type": "stream",
     "text": [
      "[1 0 1 ... 1 1 0]\n"
     ]
    }
   ],
   "source": [
    "print(y)"
   ]
  },
  {
   "cell_type": "markdown",
   "metadata": {},
   "source": [
    "## Encoding categorical data\n",
    "\n",
    "### Label Encoding the \"Gender\" column"
   ]
  },
  {
   "cell_type": "code",
   "execution_count": 5,
   "metadata": {},
   "outputs": [],
   "source": [
    "from sklearn.preprocessing import LabelEncoder\n",
    "le = LabelEncoder()\n",
    "X[:, 2] = le.fit_transform(X[:, 2])"
   ]
  },
  {
   "cell_type": "code",
   "execution_count": 6,
   "metadata": {},
   "outputs": [
    {
     "name": "stdout",
     "output_type": "stream",
     "text": [
      "[[619 'France' 0 ... 1 1 101348.88]\n",
      " [608 'Spain' 0 ... 0 1 112542.58]\n",
      " [502 'France' 0 ... 1 0 113931.57]\n",
      " ...\n",
      " [709 'France' 0 ... 0 1 42085.58]\n",
      " [772 'Germany' 1 ... 1 0 92888.52]\n",
      " [792 'France' 0 ... 1 0 38190.78]]\n"
     ]
    }
   ],
   "source": [
    "print(X)"
   ]
  },
  {
   "cell_type": "markdown",
   "metadata": {},
   "source": [
    "### One Hot Encoding the \"Geography\" column"
   ]
  },
  {
   "cell_type": "code",
   "execution_count": 7,
   "metadata": {},
   "outputs": [],
   "source": [
    "from sklearn.compose import ColumnTransformer\n",
    "from sklearn.preprocessing import OneHotEncoder\n",
    "ct = ColumnTransformer(transformers=[('encoder', OneHotEncoder(), [1])], remainder='passthrough')\n",
    "X = np.array(ct.fit_transform(X))"
   ]
  },
  {
   "cell_type": "code",
   "execution_count": 8,
   "metadata": {},
   "outputs": [
    {
     "name": "stdout",
     "output_type": "stream",
     "text": [
      "[[1.0 0.0 0.0 ... 1 1 101348.88]\n",
      " [0.0 0.0 1.0 ... 0 1 112542.58]\n",
      " [1.0 0.0 0.0 ... 1 0 113931.57]\n",
      " ...\n",
      " [1.0 0.0 0.0 ... 0 1 42085.58]\n",
      " [0.0 1.0 0.0 ... 1 0 92888.52]\n",
      " [1.0 0.0 0.0 ... 1 0 38190.78]]\n"
     ]
    }
   ],
   "source": [
    "print(X)"
   ]
  },
  {
   "cell_type": "markdown",
   "metadata": {},
   "source": [
    "### Splitting the dataset into the Training set and Test set"
   ]
  },
  {
   "cell_type": "code",
   "execution_count": 9,
   "metadata": {},
   "outputs": [],
   "source": [
    "from sklearn.model_selection import train_test_split\n",
    "X_train, X_test, y_train, y_test = train_test_split(X, y, test_size = 0.2, random_state = 0)"
   ]
  },
  {
   "cell_type": "markdown",
   "metadata": {},
   "source": [
    "### Feature Scaling"
   ]
  },
  {
   "cell_type": "code",
   "execution_count": 10,
   "metadata": {},
   "outputs": [],
   "source": [
    "from sklearn.preprocessing import StandardScaler\n",
    "sc = StandardScaler()\n",
    "X_train = sc.fit_transform(X_train)\n",
    "X_test = sc.transform(X_test)"
   ]
  },
  {
   "cell_type": "markdown",
   "metadata": {},
   "source": [
    "## Part 2 - Building the ANN\n",
    "\n",
    "### Initializing the ANN"
   ]
  },
  {
   "cell_type": "code",
   "execution_count": 11,
   "metadata": {},
   "outputs": [],
   "source": [
    "ann = tf.keras.models.Sequential()"
   ]
  },
  {
   "cell_type": "markdown",
   "metadata": {},
   "source": [
    "### Adding the input layer and the first hidden layer"
   ]
  },
  {
   "cell_type": "code",
   "execution_count": 12,
   "metadata": {},
   "outputs": [
    {
     "name": "stdout",
     "output_type": "stream",
     "text": [
      "WARNING:tensorflow:From C:\\Users\\vikram\\anaconda3\\lib\\site-packages\\tensorflow\\python\\ops\\init_ops.py:1251: calling VarianceScaling.__init__ (from tensorflow.python.ops.init_ops) with dtype is deprecated and will be removed in a future version.\n",
      "Instructions for updating:\n",
      "Call initializer instance with the dtype argument instead of passing it to the constructor\n"
     ]
    }
   ],
   "source": [
    "ann.add(tf.keras.layers.Dense(units=6, activation='relu'))"
   ]
  },
  {
   "cell_type": "markdown",
   "metadata": {},
   "source": [
    "### Adding the second hidden layer"
   ]
  },
  {
   "cell_type": "code",
   "execution_count": 13,
   "metadata": {},
   "outputs": [],
   "source": [
    "ann.add(tf.keras.layers.Dense(units=6, activation='relu'))"
   ]
  },
  {
   "cell_type": "markdown",
   "metadata": {},
   "source": [
    "### Adding the output layer"
   ]
  },
  {
   "cell_type": "code",
   "execution_count": 14,
   "metadata": {},
   "outputs": [],
   "source": [
    "ann.add(tf.keras.layers.Dense(units=1, activation='sigmoid'))"
   ]
  },
  {
   "cell_type": "markdown",
   "metadata": {},
   "source": [
    "## Part 3 - Training the ANN\n",
    "\n",
    "### Compiling the ANN"
   ]
  },
  {
   "cell_type": "code",
   "execution_count": 15,
   "metadata": {},
   "outputs": [],
   "source": [
    "ann.compile(optimizer = 'adam', loss = 'binary_crossentropy', metrics = ['accuracy'])"
   ]
  },
  {
   "cell_type": "markdown",
   "metadata": {},
   "source": [
    "### Training the ANN on the Training set"
   ]
  },
  {
   "cell_type": "code",
   "execution_count": 16,
   "metadata": {},
   "outputs": [
    {
     "name": "stdout",
     "output_type": "stream",
     "text": [
      "WARNING:tensorflow:From C:\\Users\\vikram\\anaconda3\\lib\\site-packages\\tensorflow\\python\\ops\\nn_impl.py:180: add_dispatch_support.<locals>.wrapper (from tensorflow.python.ops.array_ops) is deprecated and will be removed in a future version.\n",
      "Instructions for updating:\n",
      "Use tf.where in 2.0, which has the same broadcast rule as np.where\n",
      "Epoch 1/100\n",
      "8000/8000 [==============================] - 1s 104us/sample - loss: 0.5829 - acc: 0.7755\n",
      "Epoch 2/100\n",
      "8000/8000 [==============================] - 1s 63us/sample - loss: 0.4902 - acc: 0.7960\n",
      "Epoch 3/100\n",
      "8000/8000 [==============================] - 0s 57us/sample - loss: 0.4528 - acc: 0.7960\n",
      "Epoch 4/100\n",
      "8000/8000 [==============================] - 0s 56us/sample - loss: 0.4364 - acc: 0.8014\n",
      "Epoch 5/100\n",
      "8000/8000 [==============================] - 0s 54us/sample - loss: 0.4254 - acc: 0.8139\n",
      "Epoch 6/100\n",
      "8000/8000 [==============================] - 0s 57us/sample - loss: 0.4137 - acc: 0.8184\n",
      "Epoch 7/100\n",
      "8000/8000 [==============================] - 0s 48us/sample - loss: 0.4036 - acc: 0.8213\n",
      "Epoch 8/100\n",
      "8000/8000 [==============================] - 0s 47us/sample - loss: 0.3957 - acc: 0.8264\n",
      "Epoch 9/100\n",
      "8000/8000 [==============================] - 0s 48us/sample - loss: 0.3884 - acc: 0.8306\n",
      "Epoch 10/100\n",
      "8000/8000 [==============================] - 0s 49us/sample - loss: 0.3812 - acc: 0.8346\n",
      "Epoch 11/100\n",
      "8000/8000 [==============================] - 0s 44us/sample - loss: 0.3747 - acc: 0.8396\n",
      "Epoch 12/100\n",
      "8000/8000 [==============================] - 0s 41us/sample - loss: 0.3691 - acc: 0.8446\n",
      "Epoch 13/100\n",
      "8000/8000 [==============================] - 0s 38us/sample - loss: 0.3629 - acc: 0.8485\n",
      "Epoch 14/100\n",
      "8000/8000 [==============================] - 0s 35us/sample - loss: 0.3586 - acc: 0.8503\n",
      "Epoch 15/100\n",
      "8000/8000 [==============================] - 0s 42us/sample - loss: 0.3550 - acc: 0.8516\n",
      "Epoch 16/100\n",
      "8000/8000 [==============================] - 0s 39us/sample - loss: 0.3518 - acc: 0.8539\n",
      "Epoch 17/100\n",
      "8000/8000 [==============================] - 0s 36us/sample - loss: 0.3492 - acc: 0.8569\n",
      "Epoch 18/100\n",
      "8000/8000 [==============================] - 0s 36us/sample - loss: 0.3460 - acc: 0.8591\n",
      "Epoch 19/100\n",
      "8000/8000 [==============================] - 0s 41us/sample - loss: 0.3436 - acc: 0.8606\n",
      "Epoch 20/100\n",
      "8000/8000 [==============================] - 0s 37us/sample - loss: 0.3409 - acc: 0.8595\n",
      "Epoch 21/100\n",
      "8000/8000 [==============================] - 0s 35us/sample - loss: 0.3396 - acc: 0.8626\n",
      "Epoch 22/100\n",
      "8000/8000 [==============================] - 0s 38us/sample - loss: 0.3381 - acc: 0.8643\n",
      "Epoch 23/100\n",
      "8000/8000 [==============================] - 0s 36us/sample - loss: 0.3369 - acc: 0.8641\n",
      "Epoch 24/100\n",
      "8000/8000 [==============================] - 0s 36us/sample - loss: 0.3362 - acc: 0.8625\n",
      "Epoch 25/100\n",
      "8000/8000 [==============================] - 0s 42us/sample - loss: 0.3359 - acc: 0.8626\n",
      "Epoch 26/100\n",
      "8000/8000 [==============================] - 0s 39us/sample - loss: 0.3349 - acc: 0.8644\n",
      "Epoch 27/100\n",
      "8000/8000 [==============================] - 0s 41us/sample - loss: 0.3351 - acc: 0.8627\n",
      "Epoch 28/100\n",
      "8000/8000 [==============================] - 0s 39us/sample - loss: 0.3347 - acc: 0.8630\n",
      "Epoch 29/100\n",
      "8000/8000 [==============================] - 0s 39us/sample - loss: 0.3341 - acc: 0.8633\n",
      "Epoch 30/100\n",
      "8000/8000 [==============================] - 0s 39us/sample - loss: 0.3337 - acc: 0.8646\n",
      "Epoch 31/100\n",
      "8000/8000 [==============================] - 0s 37us/sample - loss: 0.3336 - acc: 0.8633\n",
      "Epoch 32/100\n",
      "8000/8000 [==============================] - 0s 41us/sample - loss: 0.3334 - acc: 0.8626\n",
      "Epoch 33/100\n",
      "8000/8000 [==============================] - 0s 40us/sample - loss: 0.3332 - acc: 0.8634\n",
      "Epoch 34/100\n",
      "8000/8000 [==============================] - 0s 38us/sample - loss: 0.3335 - acc: 0.8641\n",
      "Epoch 35/100\n",
      "8000/8000 [==============================] - 0s 38us/sample - loss: 0.3333 - acc: 0.8650\n",
      "Epoch 36/100\n",
      "8000/8000 [==============================] - 0s 38us/sample - loss: 0.3329 - acc: 0.8639\n",
      "Epoch 37/100\n",
      "8000/8000 [==============================] - 0s 38us/sample - loss: 0.3325 - acc: 0.8630\n",
      "Epoch 38/100\n",
      "8000/8000 [==============================] - 0s 37us/sample - loss: 0.3329 - acc: 0.8630\n",
      "Epoch 39/100\n",
      "8000/8000 [==============================] - 0s 39us/sample - loss: 0.3327 - acc: 0.8637\n",
      "Epoch 40/100\n",
      "8000/8000 [==============================] - 0s 39us/sample - loss: 0.3328 - acc: 0.8644\n",
      "Epoch 41/100\n",
      "8000/8000 [==============================] - 0s 38us/sample - loss: 0.3324 - acc: 0.8655\n",
      "Epoch 42/100\n",
      "8000/8000 [==============================] - 0s 39us/sample - loss: 0.3327 - acc: 0.8650\n",
      "Epoch 43/100\n",
      "8000/8000 [==============================] - 0s 37us/sample - loss: 0.3325 - acc: 0.8639\n",
      "Epoch 44/100\n",
      "8000/8000 [==============================] - 0s 39us/sample - loss: 0.3323 - acc: 0.8635\n",
      "Epoch 45/100\n",
      "8000/8000 [==============================] - 0s 39us/sample - loss: 0.3320 - acc: 0.8635\n",
      "Epoch 46/100\n",
      "8000/8000 [==============================] - 0s 41us/sample - loss: 0.3322 - acc: 0.8649\n",
      "Epoch 47/100\n",
      "8000/8000 [==============================] - 0s 41us/sample - loss: 0.3321 - acc: 0.8639\n",
      "Epoch 48/100\n",
      "8000/8000 [==============================] - 0s 39us/sample - loss: 0.3319 - acc: 0.8634\n",
      "Epoch 49/100\n",
      "8000/8000 [==============================] - 0s 41us/sample - loss: 0.3320 - acc: 0.8641\n",
      "Epoch 50/100\n",
      "8000/8000 [==============================] - 0s 38us/sample - loss: 0.3317 - acc: 0.8631\n",
      "Epoch 51/100\n",
      "8000/8000 [==============================] - 0s 37us/sample - loss: 0.3320 - acc: 0.8644\n",
      "Epoch 52/100\n",
      "8000/8000 [==============================] - 0s 39us/sample - loss: 0.3318 - acc: 0.8641\n",
      "Epoch 53/100\n",
      "8000/8000 [==============================] - 0s 38us/sample - loss: 0.3313 - acc: 0.8636\n",
      "Epoch 54/100\n",
      "8000/8000 [==============================] - 0s 40us/sample - loss: 0.3316 - acc: 0.8634\n",
      "Epoch 55/100\n",
      "8000/8000 [==============================] - 0s 40us/sample - loss: 0.3312 - acc: 0.8660\n",
      "Epoch 56/100\n",
      "8000/8000 [==============================] - 0s 37us/sample - loss: 0.3309 - acc: 0.8661\n",
      "Epoch 57/100\n",
      "8000/8000 [==============================] - 0s 42us/sample - loss: 0.3313 - acc: 0.8650\n",
      "Epoch 58/100\n",
      "8000/8000 [==============================] - 0s 42us/sample - loss: 0.3309 - acc: 0.8645\n",
      "Epoch 59/100\n",
      "8000/8000 [==============================] - 0s 42us/sample - loss: 0.3307 - acc: 0.8640\n",
      "Epoch 60/100\n",
      "8000/8000 [==============================] - 0s 41us/sample - loss: 0.3305 - acc: 0.8648\n",
      "Epoch 61/100\n",
      "8000/8000 [==============================] - 0s 36us/sample - loss: 0.3309 - acc: 0.8660\n",
      "Epoch 62/100\n",
      "8000/8000 [==============================] - 0s 40us/sample - loss: 0.3307 - acc: 0.8637\n",
      "Epoch 63/100\n",
      "8000/8000 [==============================] - 0s 38us/sample - loss: 0.3306 - acc: 0.8664\n",
      "Epoch 64/100\n",
      "8000/8000 [==============================] - 0s 41us/sample - loss: 0.3305 - acc: 0.8651\n",
      "Epoch 65/100\n",
      "8000/8000 [==============================] - 0s 45us/sample - loss: 0.3303 - acc: 0.8654\n",
      "Epoch 66/100\n",
      "8000/8000 [==============================] - 0s 43us/sample - loss: 0.3301 - acc: 0.8655\n",
      "Epoch 67/100\n",
      "8000/8000 [==============================] - 0s 40us/sample - loss: 0.3301 - acc: 0.8665\n",
      "Epoch 68/100\n",
      "8000/8000 [==============================] - 0s 39us/sample - loss: 0.3301 - acc: 0.8660\n",
      "Epoch 69/100\n",
      "8000/8000 [==============================] - 0s 40us/sample - loss: 0.3300 - acc: 0.8658\n",
      "Epoch 70/100\n",
      "8000/8000 [==============================] - 0s 50us/sample - loss: 0.3302 - acc: 0.8660\n",
      "Epoch 71/100\n",
      "8000/8000 [==============================] - 0s 51us/sample - loss: 0.3298 - acc: 0.8664\n",
      "Epoch 72/100\n",
      "8000/8000 [==============================] - 0s 44us/sample - loss: 0.3298 - acc: 0.8654\n",
      "Epoch 73/100\n",
      "8000/8000 [==============================] - 0s 47us/sample - loss: 0.3297 - acc: 0.8659\n",
      "Epoch 74/100\n",
      "8000/8000 [==============================] - 0s 49us/sample - loss: 0.3299 - acc: 0.8649\n",
      "Epoch 75/100\n",
      "8000/8000 [==============================] - 0s 48us/sample - loss: 0.3294 - acc: 0.8662\n",
      "Epoch 76/100\n",
      "8000/8000 [==============================] - 0s 47us/sample - loss: 0.3294 - acc: 0.8673\n",
      "Epoch 77/100\n",
      "8000/8000 [==============================] - 0s 48us/sample - loss: 0.3300 - acc: 0.8656\n",
      "Epoch 78/100\n"
     ]
    },
    {
     "name": "stdout",
     "output_type": "stream",
     "text": [
      "8000/8000 [==============================] - 0s 46us/sample - loss: 0.3294 - acc: 0.8658\n",
      "Epoch 79/100\n",
      "8000/8000 [==============================] - 0s 42us/sample - loss: 0.3294 - acc: 0.8675\n",
      "Epoch 80/100\n",
      "8000/8000 [==============================] - 0s 40us/sample - loss: 0.3292 - acc: 0.8661\n",
      "Epoch 81/100\n",
      "8000/8000 [==============================] - 0s 38us/sample - loss: 0.3288 - acc: 0.8640\n",
      "Epoch 82/100\n",
      "8000/8000 [==============================] - 0s 37us/sample - loss: 0.3293 - acc: 0.8669\n",
      "Epoch 83/100\n",
      "8000/8000 [==============================] - 0s 39us/sample - loss: 0.3295 - acc: 0.8649\n",
      "Epoch 84/100\n",
      "8000/8000 [==============================] - 0s 38us/sample - loss: 0.3291 - acc: 0.8652\n",
      "Epoch 85/100\n",
      "8000/8000 [==============================] - 0s 39us/sample - loss: 0.3295 - acc: 0.8654\n",
      "Epoch 86/100\n",
      "8000/8000 [==============================] - 0s 38us/sample - loss: 0.3288 - acc: 0.8658\n",
      "Epoch 87/100\n",
      "8000/8000 [==============================] - 0s 38us/sample - loss: 0.3283 - acc: 0.8659\n",
      "Epoch 88/100\n",
      "8000/8000 [==============================] - 0s 39us/sample - loss: 0.3287 - acc: 0.8648\n",
      "Epoch 89/100\n",
      "8000/8000 [==============================] - 0s 38us/sample - loss: 0.3286 - acc: 0.8652\n",
      "Epoch 90/100\n",
      "8000/8000 [==============================] - 0s 42us/sample - loss: 0.3288 - acc: 0.8659\n",
      "Epoch 91/100\n",
      "8000/8000 [==============================] - 0s 39us/sample - loss: 0.3287 - acc: 0.8668\n",
      "Epoch 92/100\n",
      "8000/8000 [==============================] - 0s 40us/sample - loss: 0.3288 - acc: 0.8651\n",
      "Epoch 93/100\n",
      "8000/8000 [==============================] - 0s 38us/sample - loss: 0.3286 - acc: 0.8650\n",
      "Epoch 94/100\n",
      "8000/8000 [==============================] - 0s 37us/sample - loss: 0.3286 - acc: 0.8640\n",
      "Epoch 95/100\n",
      "8000/8000 [==============================] - 0s 47us/sample - loss: 0.3285 - acc: 0.8665\n",
      "Epoch 96/100\n",
      "8000/8000 [==============================] - 0s 41us/sample - loss: 0.3285 - acc: 0.8655\n",
      "Epoch 97/100\n",
      "8000/8000 [==============================] - 0s 42us/sample - loss: 0.3283 - acc: 0.8648\n",
      "Epoch 98/100\n",
      "8000/8000 [==============================] - 0s 42us/sample - loss: 0.3285 - acc: 0.8658\n",
      "Epoch 99/100\n",
      "8000/8000 [==============================] - 0s 40us/sample - loss: 0.3276 - acc: 0.8668\n",
      "Epoch 100/100\n",
      "8000/8000 [==============================] - 0s 41us/sample - loss: 0.3283 - acc: 0.8656\n"
     ]
    },
    {
     "data": {
      "text/plain": [
       "<tensorflow.python.keras.callbacks.History at 0x2f41d971e08>"
      ]
     },
     "execution_count": 16,
     "metadata": {},
     "output_type": "execute_result"
    }
   ],
   "source": [
    "ann.fit(X_train, y_train, batch_size = 32, epochs = 100)"
   ]
  },
  {
   "cell_type": "markdown",
   "metadata": {},
   "source": [
    "## Part 4 - Making the predictions and evaluating the model"
   ]
  },
  {
   "cell_type": "markdown",
   "metadata": {},
   "source": [
    "### Predicting the result of a single observation"
   ]
  },
  {
   "cell_type": "markdown",
   "metadata": {},
   "source": [
    "Using our ANN model to predict if the customer with the following informations will leave the bank: \n",
    "\n",
    "Geography: France\n",
    "\n",
    "Credit Score: 600\n",
    "\n",
    "Gender: Male\n",
    "\n",
    "Age: 40 years old\n",
    "\n",
    "Tenure: 3 years\n",
    "\n",
    "Balance: \\$ 60000\n",
    "\n",
    "Number of Products: 2\n",
    "\n",
    "Does this customer have a credit card ? Yes\n",
    "\n",
    "Is this customer an Active Member: Yes\n",
    "\n",
    "Estimated Salary: \\$ 50000\n",
    "\n",
    "So, should we say goodbye to that customer ?"
   ]
  },
  {
   "cell_type": "markdown",
   "metadata": {},
   "source": [
    "**Solution**"
   ]
  },
  {
   "cell_type": "code",
   "execution_count": 17,
   "metadata": {},
   "outputs": [
    {
     "name": "stdout",
     "output_type": "stream",
     "text": [
      "[[False]]\n"
     ]
    }
   ],
   "source": [
    "print(ann.predict(sc.transform([[1, 0, 0, 600, 1, 40, 3, 60000, 2, 1, 1, 50000]])) > 0.5)"
   ]
  },
  {
   "cell_type": "markdown",
   "metadata": {},
   "source": [
    "Therefore, our ANN model predicts that this customer stays in the bank!\n",
    "\n",
    "**Important note 1:** Notice that the values of the features were all input in a double pair of square brackets. That's because the \"predict\" method always expects a 2D array as the format of its inputs. And putting our values into a double pair of square brackets makes the input exactly a 2D array.\n",
    "\n",
    "**Important note 2:** Notice also that the \"France\" country was not input as a string in the last column but as \"1, 0, 0\" in the first three columns. That's because of course the predict method expects the one-hot-encoded values of the state, and as we see in the first row of the matrix of features X, \"France\" was encoded as \"1, 0, 0\". And be careful to include these values in the first three columns, because the dummy variables are always created in the first columns."
   ]
  },
  {
   "cell_type": "markdown",
   "metadata": {},
   "source": [
    "### Predicting the Test set results"
   ]
  },
  {
   "cell_type": "code",
   "execution_count": 18,
   "metadata": {},
   "outputs": [
    {
     "name": "stdout",
     "output_type": "stream",
     "text": [
      "[[0 0]\n",
      " [0 1]\n",
      " [0 0]\n",
      " ...\n",
      " [0 0]\n",
      " [0 0]\n",
      " [0 0]]\n"
     ]
    }
   ],
   "source": [
    "y_pred = ann.predict(X_test)\n",
    "y_pred = (y_pred > 0.5)\n",
    "print(np.concatenate((y_pred.reshape(len(y_pred),1), y_test.reshape(len(y_test),1)),1))"
   ]
  },
  {
   "cell_type": "markdown",
   "metadata": {},
   "source": [
    "### Making the Confusion Matrix\n",
    "\n",
    "It gives us the accuracy percentage!"
   ]
  },
  {
   "cell_type": "code",
   "execution_count": 19,
   "metadata": {},
   "outputs": [
    {
     "name": "stdout",
     "output_type": "stream",
     "text": [
      "[[1527   68]\n",
      " [ 208  197]]\n"
     ]
    },
    {
     "data": {
      "text/plain": [
       "0.862"
      ]
     },
     "execution_count": 19,
     "metadata": {},
     "output_type": "execute_result"
    }
   ],
   "source": [
    "from sklearn.metrics import confusion_matrix, accuracy_score\n",
    "cm = confusion_matrix(y_test, y_pred)\n",
    "print(cm)\n",
    "accuracy_score(y_test, y_pred)"
   ]
  },
  {
   "cell_type": "code",
   "execution_count": null,
   "metadata": {},
   "outputs": [],
   "source": []
  }
 ],
 "metadata": {
  "kernelspec": {
   "display_name": "Python 3",
   "language": "python",
   "name": "python3"
  },
  "language_info": {
   "codemirror_mode": {
    "name": "ipython",
    "version": 3
   },
   "file_extension": ".py",
   "mimetype": "text/x-python",
   "name": "python",
   "nbconvert_exporter": "python",
   "pygments_lexer": "ipython3",
   "version": "3.7.7"
  }
 },
 "nbformat": 4,
 "nbformat_minor": 4
}
